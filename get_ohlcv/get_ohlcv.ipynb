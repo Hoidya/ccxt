{
 "cells": [
  {
   "cell_type": "code",
   "execution_count": 2,
   "metadata": {},
   "outputs": [
    {
     "name": "stdout",
     "output_type": "stream",
     "text": [
      "Data saved to binance_pengu_ohlcv_data.csv\n"
     ]
    }
   ],
   "source": [
    "import ccxt\n",
    "import pandas as pd\n",
    "\n",
    "# 定義交易對\n",
    "symbol = 'PENGU/USDT'  # 假設 PENGU 是以 USDT 計價的\n",
    "listing_time = '2023-01-01T00:00:00Z'  # 假設上幣日期\n",
    "since = None\n",
    "\n",
    "# 獲取幣種的上幣時間\n",
    "def get_since(exchange):\n",
    "    return exchange.parse8601(listing_time)\n",
    "\n",
    "# 獲取歷史交易數據\n",
    "def fetch_ohlcv(exchange, symbol):\n",
    "    since = get_since(exchange)\n",
    "    ohlcv = exchange.fetch_ohlcv(symbol, timeframe='1d', since=since)\n",
    "    df = pd.DataFrame(ohlcv, columns=['timestamp', 'open', 'high', 'low', 'close', 'volume'])\n",
    "    df['date'] = pd.to_datetime(df['timestamp'], unit='ms')\n",
    "    df.drop(columns=['timestamp'], inplace=True)\n",
    "    return df\n",
    "\n",
    "# 初始化交易所\n",
    "exchanges = {\n",
    "    'binance': ccxt.binance(),\n",
    "    #'okx': ccxt.okx(),\n",
    "    # 'bybit': ccxt.bybit(),\n",
    "}\n",
    "\n",
    "# 獲取數據並保存為 CSV\n",
    "for exchange_name, exchange in exchanges.items():\n",
    "    try:\n",
    "        df = fetch_ohlcv(exchange, symbol)\n",
    "        csv_filename = f'{exchange_name}_pengu_ohlcv_data.csv'\n",
    "        df.to_csv(csv_filename, index=False)\n",
    "        print(f\"Data saved to {csv_filename}\")\n",
    "    except Exception as e:\n",
    "        print(f\"Error fetching data from {exchange_name}: {e}\")"
   ]
  },
  {
   "cell_type": "code",
   "execution_count": 3,
   "metadata": {},
   "outputs": [
    {
     "name": "stdout",
     "output_type": "stream",
     "text": [
      "       open      high       low     close      volume                date\n",
      "0  0.034532    0.0395  0.030616  0.032273  2332995734 2024-12-18 16:00:00\n",
      "1  0.036388   0.03973  0.026222  0.034563  2811583370 2024-12-17 16:00:00\n",
      "2     0.005  0.056334     0.005  0.036417   804762961 2024-12-16 16:00:00\n",
      "Data saved to okx_pengu_ohlcv_data.csv\n"
     ]
    },
    {
     "name": "stderr",
     "output_type": "stream",
     "text": [
      "/var/folders/ks/h0cwv1cn5t92_dn23lyd5_kw0000gn/T/ipykernel_2528/8600489.py:38: FutureWarning: The behavior of 'to_datetime' with 'unit' when parsing strings is deprecated. In a future version, strings will be parsed as datetime strings, matching the behavior without a 'unit'. To retain the old behavior, explicitly cast ints or floats to numeric type before calling to_datetime.\n",
      "  df['date'] = pd.to_datetime(df['timestamp'], unit='ms')\n"
     ]
    }
   ],
   "source": [
    "import requests\n",
    "import pandas as pd\n",
    "\n",
    "# 定義 OKX API URL\n",
    "base_url = 'https://www.okx.com/api/v5'\n",
    "\n",
    "# 定義交易對和幣種上幣時間\n",
    "symbol = 'PENGU-USDT'  # 假設 PENGU 是以 USDT 計價的\n",
    "listing_time = '2023-01-01T00:00:00Z'  # 假設上幣日期\n",
    "\n",
    "# 將上幣時間轉換為毫秒時間戳\n",
    "since = int(pd.to_datetime(listing_time).timestamp() * 1000)\n",
    "\n",
    "# 獲取歷史 OHLCV 數據\n",
    "def fetch_ohlcv(symbol, since):\n",
    "    url = f'{base_url}/market/candles?instId={symbol}&bar=1D&start={since}'\n",
    "    response = requests.get(url)\n",
    "\n",
    "    # 檢查請求是否成功\n",
    "    if response.status_code == 200:\n",
    "        data = response.json()\n",
    "        if data['code'] == '0':\n",
    "            return data['data']\n",
    "        else:\n",
    "            print(f\"Error: {data['msg']}\")\n",
    "            return None\n",
    "    else:\n",
    "        print(f\"HTTP Error: {response.status_code}\")\n",
    "        return None\n",
    "\n",
    "# 獲取數據並保存為 CSV\n",
    "ohlcv_data = fetch_ohlcv(symbol, since)\n",
    "if ohlcv_data:\n",
    "    # 將數據轉換為 DataFrame\n",
    "    df = pd.DataFrame(ohlcv_data, columns=['timestamp', 'open', 'high', 'low', 'close', 'volume', 'close_time', 'quote_volume', 'count'])\n",
    "    \n",
    "    # 將 timestamp 轉換為可讀的日期時間格式\n",
    "    df['date'] = pd.to_datetime(df['timestamp'], unit='ms')\n",
    "\n",
    "    # 刪除不需要的列\n",
    "    df.drop(columns=['timestamp', 'close_time', 'quote_volume', 'count'], inplace=True)\n",
    "\n",
    "    # 顯示 DataFrame\n",
    "    print(df)\n",
    "\n",
    "    # 將 DataFrame 保存為 CSV 文件\n",
    "    df.to_csv('okx_pengu_ohlcv_data.csv', index=False)\n",
    "    print(\"Data saved to okx_pengu_ohlcv_data.csv\")"
   ]
  },
  {
   "cell_type": "code",
   "execution_count": 5,
   "metadata": {},
   "outputs": [
    {
     "name": "stdout",
     "output_type": "stream",
     "text": [
      "[[1734393600000, 0.0034, 0.05851, 0.0034, 0.02875, 1236362289.0], [1734480000000, 0.02875, 0.03949, 0.0265, 0.03559, 1779231684.0], [1734566400000, 0.03559, 0.03694, 0.03061, 0.03223, 511658641.0]]\n",
      "OHLCV 数据已成功保存为 ohlcv_data.csv\n"
     ]
    }
   ],
   "source": [
    "import ccxt\n",
    "import csv\n",
    "from pprint import pprint\n",
    "\n",
    "# 创建 Bybit 实例，替换为您的 API 密钥和秘密\n",
    "bybit = ccxt.bybit()\n",
    "\n",
    "# 加载市场信息\n",
    "markets = bybit.load_markets()\n",
    "\n",
    "# 获取 OHLCV 数据\n",
    "symbol = 'PENGU/USDT'  # 确保符号格式正确\n",
    "try:\n",
    "    ohlcv = bybit.fetch_ohlcv(symbol, timeframe='1d', limit=200)\n",
    "    print(ohlcv)\n",
    "\n",
    "    # 保存为 CSV 文件\n",
    "    with open('bybit_pengu_ohlcv_data.csv', mode='w', newline='') as file:\n",
    "        writer = csv.writer(file)\n",
    "        # 写入表头\n",
    "        writer.writerow(['timestamp', 'open', 'high', 'low', 'close', 'volume'])\n",
    "        # 写入数据\n",
    "        writer.writerows(ohlcv)\n",
    "\n",
    "    print(\"OHLCV 数据已成功保存为 ohlcv_data.csv\")\n",
    "except Exception as e:\n",
    "    print(f\"Error fetching OHLCV data: {e}\")\n"
   ]
  }
 ],
 "metadata": {
  "kernelspec": {
   "display_name": "Python 3",
   "language": "python",
   "name": "python3"
  },
  "language_info": {
   "codemirror_mode": {
    "name": "ipython",
    "version": 3
   },
   "file_extension": ".py",
   "mimetype": "text/x-python",
   "name": "python",
   "nbconvert_exporter": "python",
   "pygments_lexer": "ipython3",
   "version": "3.9.6"
  }
 },
 "nbformat": 4,
 "nbformat_minor": 2
}
